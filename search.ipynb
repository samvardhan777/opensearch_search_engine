{
 "cells": [
  {
   "cell_type": "code",
   "execution_count": 1,
   "metadata": {},
   "outputs": [],
   "source": [
    "from opensearchpy import OpenSearch\n",
    "from opensearch_dsl import Search"
   ]
  },
  {
   "cell_type": "code",
   "execution_count": 2,
   "metadata": {},
   "outputs": [],
   "source": [
    "host = 'localhost'\n",
    "port = 9200\n",
    "auth = ('admin', 'admin') # For testing only. Don't store credentials in code.\n",
    "ca_certs_path = '/full/path/to/root-ca.pem' # Provide a CA bundle if you use intermediate CAs with your root CA.\n",
    "\n",
    "# Optional client certificates if you don't want to use HTTP basic authentication.\n",
    "client_cert_path = '/full/path/to/client.pem'\n",
    "client_key_path = '/full/path/to/client-key.pem'\n",
    "\n",
    "# Create the client with SSL/TLS enabled, but hostname verification disabled.\n",
    "client = OpenSearch(\n",
    "    hosts = [{'host': host, 'port': port}],\n",
    "    http_compress = True, # enables gzip compression for request bodies\n",
    "    http_auth = auth,\n",
    "    client_cert = client_cert_path,\n",
    "    client_key = client_key_path,\n",
    "    use_ssl = True,\n",
    "    verify_certs = True,\n",
    "    ssl_assert_hostname = False,\n",
    "    ssl_show_warn = False,\n",
    "    ca_certs = ca_certs_path\n",
    ")"
   ]
  },
  {
   "cell_type": "code",
   "execution_count": 4,
   "metadata": {},
   "outputs": [],
   "source": [
    "host = 'localhost'\n",
    "port = 9200\n",
    "\n",
    "# Create the client with SSL/TLS and hostname verification disabled.\n",
    "client = OpenSearch(\n",
    "    hosts = [{'host': host, 'port': port}],\n",
    "    http_compress = True, # enables gzip compression for request bodies\n",
    "    use_ssl = False,\n",
    "    verify_certs = False,\n",
    "    ssl_assert_hostname = False,\n",
    "    ssl_show_warn = False\n",
    ")"
   ]
  },
  {
   "cell_type": "code",
   "execution_count": 5,
   "metadata": {},
   "outputs": [],
   "source": [
    "index_name = 'my-dsl-index'\n",
    "index_body = {\n",
    "  'settings': {\n",
    "    'index': {\n",
    "      'number_of_shards': 4\n",
    "    }\n",
    "  }\n",
    "}\n",
    "\n",
    "response = client.indices.create(index_name, body=index_body)"
   ]
  },
  {
   "cell_type": "code",
   "execution_count": 8,
   "metadata": {},
   "outputs": [],
   "source": [
    "from opensearch_dsl import Document, Text, Keyword\n",
    "\n",
    "class Movie(Document):\n",
    "    title = Text(fields={'raw': Keyword()})\n",
    "    director = Text()\n",
    "    year = Text()\n",
    "\n",
    "    class Index:\n",
    "        name = 'index_name'  # Ensure index_name is defined or replace with a string\n",
    "\n",
    "    def save(self, **kwargs):\n",
    "        return super().save(**kwargs)\n",
    "\n",
    "# Assuming 'client' is already defined as an OpenSearch connection\n",
    "Movie.init(using=client)\n",
    "doc = Movie(meta={'id': 1}, title='Moneyball', director='Bennett Miller', year='2011')\n",
    "response = doc.save(using=client)"
   ]
  },
  {
   "cell_type": "code",
   "execution_count": 9,
   "metadata": {},
   "outputs": [
    {
     "data": {
      "text/plain": [
       "{'took': 115,\n",
       " 'errors': False,\n",
       " 'items': [{'index': {'_index': 'my-dsl-index',\n",
       "    '_id': '2',\n",
       "    '_version': 1,\n",
       "    'result': 'created',\n",
       "    '_shards': {'total': 2, 'successful': 1, 'failed': 0},\n",
       "    '_seq_no': 0,\n",
       "    '_primary_term': 1,\n",
       "    'status': 201}},\n",
       "  {'create': {'_index': 'my-dsl-index',\n",
       "    '_id': '3',\n",
       "    '_version': 1,\n",
       "    'result': 'created',\n",
       "    '_shards': {'total': 2, 'successful': 1, 'failed': 0},\n",
       "    '_seq_no': 1,\n",
       "    '_primary_term': 1,\n",
       "    'status': 201}},\n",
       "  {'update': {'_index': 'my-dsl-index',\n",
       "    '_id': '3',\n",
       "    '_version': 2,\n",
       "    'result': 'updated',\n",
       "    '_shards': {'total': 2, 'successful': 1, 'failed': 0},\n",
       "    '_seq_no': 2,\n",
       "    '_primary_term': 1,\n",
       "    'status': 200}}]}"
      ]
     },
     "execution_count": 9,
     "metadata": {},
     "output_type": "execute_result"
    }
   ],
   "source": [
    "movies = '{ \"index\" : { \"_index\" : \"my-dsl-index\", \"_id\" : \"2\" } } \\n { \"title\" : \"Interstellar\", \"director\" : \"Christopher Nolan\", \"year\" : \"2014\"} \\n { \"create\" : { \"_index\" : \"my-dsl-index\", \"_id\" : \"3\" } } \\n { \"title\" : \"Star Trek Beyond\", \"director\" : \"Justin Lin\", \"year\" : \"2015\"} \\n { \"update\" : {\"_id\" : \"3\", \"_index\" : \"my-dsl-index\" } } \\n { \"doc\" : {\"year\" : \"2016\"} }'\n",
    "\n",
    "client.bulk(movies)"
   ]
  },
  {
   "cell_type": "code",
   "execution_count": 12,
   "metadata": {},
   "outputs": [],
   "source": [
    "s = Search(using=client, index=index_name) \\\n",
    "    .filter(\"term\", year=\"2014\") \\\n",
    "    .query(\"match\", title=\"Interstellar\")\n",
    "\n",
    "response = s.execute()"
   ]
  },
  {
   "cell_type": "code",
   "execution_count": 13,
   "metadata": {},
   "outputs": [
    {
     "data": {
      "text/plain": [
       "<Response: [<Hit(my-dsl-index/2): {'title': 'Interstellar', 'director': 'Christopher Nolan', '...}>]>"
      ]
     },
     "execution_count": 13,
     "metadata": {},
     "output_type": "execute_result"
    }
   ],
   "source": [
    "response "
   ]
  }
 ],
 "metadata": {
  "kernelspec": {
   "display_name": "search_env",
   "language": "python",
   "name": "python3"
  },
  "language_info": {
   "codemirror_mode": {
    "name": "ipython",
    "version": 3
   },
   "file_extension": ".py",
   "mimetype": "text/x-python",
   "name": "python",
   "nbconvert_exporter": "python",
   "pygments_lexer": "ipython3",
   "version": "3.11.8"
  }
 },
 "nbformat": 4,
 "nbformat_minor": 2
}
